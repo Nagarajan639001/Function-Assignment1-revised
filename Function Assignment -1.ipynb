{
 "cells": [
  {
   "cell_type": "code",
   "execution_count": null,
   "id": "150c04bc-9568-4d56-bd8e-47736659bd89",
   "metadata": {},
   "outputs": [],
   "source": [
    "#Subfields in AI.subfields() REVISED"
   ]
  },
  {
   "cell_type": "code",
   "execution_count": 10,
   "id": "df25cd10-aa48-4ed1-b4ec-b3f634c730d8",
   "metadata": {},
   "outputs": [
    {
     "name": "stdout",
     "output_type": "stream",
     "text": [
      "Sub-Fields in AI are:\n",
      "Machine Learning\n",
      "Natural Networks\n",
      "Vision\n",
      "Robotics\n",
      "Speech Processing\n",
      "Natural Language Processing\n"
     ]
    }
   ],
   "source": [
    "Lists =(\"Machine Learning\",\"Natural Networks\",\"Vision\",\"Robotics\",\"Speech Processing\",\"Natural Language Processing\")\n",
    "print(\"Sub-Fields in AI are:\")\n",
    "for course in Lists:\n",
    "    print(course)\n",
    "     \n",
    "\n"
   ]
  },
  {
   "cell_type": "code",
   "execution_count": null,
   "id": "df91874b-4a34-4682-8832-40ebc66f06da",
   "metadata": {},
   "outputs": [],
   "source": [
    "#Create a function that checks whether the given number is Odd or Even"
   ]
  },
  {
   "cell_type": "raw",
   "id": "433a35d9-e7c7-48c7-9106-3d5dcf966019",
   "metadata": {},
   "source": [
    "#OddEven()\n",
    ".\n"
   ]
  },
  {
   "cell_type": "code",
   "execution_count": 11,
   "id": "42ef32ec-2343-4f29-82b9-d17261864ed9",
   "metadata": {},
   "outputs": [
    {
     "name": "stdin",
     "output_type": "stream",
     "text": [
      "Enter the number: 52452\n"
     ]
    },
    {
     "name": "stdout",
     "output_type": "stream",
     "text": [
      "52452 is Even Number\n"
     ]
    }
   ],
   "source": [
    "num=int(input(\"Enter the number:\"))\n",
    "if( num%2==0):\n",
    "    print(num,\"is Even Number\")"
   ]
  },
  {
   "cell_type": "code",
   "execution_count": null,
   "id": "ee6bdae2-abee-4017-85f2-94272d7716e8",
   "metadata": {},
   "outputs": [],
   "source": [
    "#Eligibility for MessageEligible ()\n"
   ]
  },
  {
   "cell_type": "code",
   "execution_count": null,
   "id": "577320c5-aa27-498d-bd2b-71d62911f5ab",
   "metadata": {},
   "outputs": [],
   "source": [
    "Gender =input(\"Your Gender:\")\n",
    "age = int(input(\"Your Age :\"))\n",
    "if (age<=21):\n",
    "    print(\"Not Eligible\")\n",
    "else:\n",
    "    print(\"Eligible\")"
   ]
  },
  {
   "cell_type": "raw",
   "id": "c08af705-2c4a-4120-871a-686f3e8baa15",
   "metadata": {},
   "source": [
    "#Percentage()\n"
   ]
  },
  {
   "cell_type": "code",
   "execution_count": null,
   "id": "67035bd2-0ac5-4873-bbe6-9a01df1f7f11",
   "metadata": {},
   "outputs": [],
   "source": [
    "sub1= int(input(\"Subject1:\"))\n",
    "sub2= int(input(\"Subject2;\"))\n",
    "sub3= int(input(\"Subject3:\"))\n",
    "sub4= int(input(\"Subject4:\"))\n",
    "sub5= int(input(\"Subject5:\"))\n",
    "Tot = sub1+sub2+sub3+sub4+sub5\n",
    "print(\"Total\",Tot)\n",
    "per = Tot/5\n",
    "print(\"Percentage\",per)"
   ]
  },
  {
   "cell_type": "code",
   "execution_count": null,
   "id": "aad32a4e-f9ee-41e2-b72d-24fcf996e355",
   "metadata": {},
   "outputs": [],
   "source": [
    "#triangle.triangle()"
   ]
  },
  {
   "cell_type": "code",
   "execution_count": null,
   "id": "a1b9c985-ea26-4945-9721-cb0c35ece93a",
   "metadata": {},
   "outputs": [],
   "source": [
    "Hi=int(input(\"Height:\"))\n",
    "Br=int(input(\"Breadth:\"))\n",
    "A_formula=Hi*Br/2\n",
    "print(\"Area Formula\",A_formula)\n",
    "Hi1=int(input(\"Height1:\"))\n",
    "Hi2=int(input(\"Height2:\"))\n",
    "Br1=int(input(\"Breadth:\"))\n",
    "per_formula =Hi1+Hi2+Br1\n",
    "print(\"Perimeter of Triangle\",per_formula)"
   ]
  },
  {
   "cell_type": "code",
   "execution_count": null,
   "id": "fa55a2eb-4a5b-4747-b1aa-d3102a1131fd",
   "metadata": {},
   "outputs": [],
   "source": []
  }
 ],
 "metadata": {
  "kernelspec": {
   "display_name": "Python 3 (ipykernel)",
   "language": "python",
   "name": "python3"
  },
  "language_info": {
   "codemirror_mode": {
    "name": "ipython",
    "version": 3
   },
   "file_extension": ".py",
   "mimetype": "text/x-python",
   "name": "python",
   "nbconvert_exporter": "python",
   "pygments_lexer": "ipython3",
   "version": "3.12.4"
  }
 },
 "nbformat": 4,
 "nbformat_minor": 5
}
